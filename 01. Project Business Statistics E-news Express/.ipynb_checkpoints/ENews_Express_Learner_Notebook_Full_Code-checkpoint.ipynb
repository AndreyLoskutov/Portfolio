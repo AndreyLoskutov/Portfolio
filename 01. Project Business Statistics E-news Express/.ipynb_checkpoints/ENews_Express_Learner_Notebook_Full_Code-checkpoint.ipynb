{
 "cells": [
  {
   "cell_type": "markdown",
   "id": "6yDxo9u0d9Na",
   "metadata": {
    "id": "6yDxo9u0d9Na"
   },
   "source": [
    "# Project Business Statistics: E-news Express\n"
   ]
  },
  {
   "cell_type": "markdown",
   "id": "SrLd-ICEmPSD",
   "metadata": {
    "id": "SrLd-ICEmPSD"
   },
   "source": [
    "## Define Problem Statement and Objectives"
   ]
  },
  {
   "cell_type": "markdown",
   "id": "97d0c97e-03e7-469b-9182-930df28107c1",
   "metadata": {},
   "source": [
    "### Business Context\n",
    "\r\n",
    "The advent of e-news, or electronic news, portals has offered us a great opportunity to quickly get updates on the day-to-day events occurring globally. The information on these portals is retrieved electronically from online databases, processed using a variety of software, and then transmitted to the users. There are multiple advantages of transmitting new electronically, like faster access to the content and the ability to utilize different technologies such as audio, graphics, video, and other interactive elements that are either not being used or aren’t common yet in traditional newspapers\r\n",
    "\r\n",
    "E-news Express, an online news portal, aims to expand its business by acquiring new subscribers. With every visitor to the website taking certain actions based on their interest, the company plans to analyze these actions to understand user interests and determine how to drive better engagement. The executives at E-news Express are of the opinion that there has been a decline in new monthly subscribers compared to the past year because the current webpage is not designed well enough in terms of the outline & recommended content to keep customers engaged long enough to make a decision to subscrie.\r\n",
    "\r\n",
    "[Companies often analyze user responses to two variants of a product to decide which of the two variants is more effective. This experimental technique, known as A/B testing, is used to determine whether a new feature attracts users based on a chosen mete user to view the landing page"
   ]
  },
  {
   "cell_type": "markdown",
   "id": "7b318863-9fc0-4e87-933f-80de85f53c75",
   "metadata": {},
   "source": [
    "### Objective\n",
    "\n",
    "The design team of the company has researched and created a new landing page that has a new outline & more relevant content shown compared to the old page. In order to test the effectiveness of the new landing page in gathering new subscribers, the Data Science team conducted an experiment by randomly selecting 100 users and dividing them equally into two groups. The existing landing page was served to the first group (control group) and the new landing page to the second group (treatment group). Data regarding the interaction of users in both groups with the two versions of the landing page was collected. Being a data scientist in E-news Express, you have been asked to explore the data and perform a statistical analysis (at a significance level of 5%) to determine the effectiveness of the new landing page in gathering new subscribers for the news portal by answering the following questions:\n",
    "\n",
    "1. Do the users spend more time on the new landing page than on the existing landing page?\n",
    "2. Is the conversion rate (the proportion of users who visit the landing page and get converted) for the new page greater than the conversion rate for the old page?\n",
    "3. Does the converted status depend on the preferred language? [Hint: Create a contingency table using the pandas.crosstab() function]\n",
    "4. Is the time spent on the new page the same for the different language users?"
   ]
  },
  {
   "cell_type": "markdown",
   "id": "1867ab6c-b532-4d98-9a60-87baaa2cd05c",
   "metadata": {},
   "source": [
    "## Summary"
   ]
  },
  {
   "cell_type": "markdown",
   "id": "4e16e1c6-919e-47ff-a9fa-15d9a0f33a2e",
   "metadata": {},
   "source": [
    "### Conclusion and Business Recommendations"
   ]
  },
  {
   "cell_type": "markdown",
   "id": "fa832f56-f110-4dc4-9a9c-24ef90560d6b",
   "metadata": {},
   "source": [
    "#### 1. User Engagement (Time Spent on Page):\n",
    "There is strong statistical evidence that users spend more time on the new landing page compared to the old one (p < 0.05). <br>\n",
    "**Recommendation**: Adopt the new landing page design to increase user engagement and dwell time, which are key indicators of content interest.\n",
    "\n",
    "#### 2. Conversion Rate Improvement:\n",
    "The conversion rate for the new landing page is significantly higher than that of the old page (p < 0.05). <br>\n",
    "**Recommendation**: Fully roll out the new landing page to maximize subscription rates and marketing ROI.\n",
    "\n",
    "#### 3. Language Preference & Conversion Relationship:\n",
    "Conversion rates are not independent of users' preferred language (p < 0.05), indicating that language influences user decisions. <br>\n",
    "**Recommendation**: Customize or optimize landing page content further based on language segments to improve conversion performance across demographics.\n",
    "\n",
    "#### 4. Time Spent Across Languages:\n",
    "There is no significant difference in time spent on the new page across different language groups (p > 0.05). <br>\n",
    "**Recommendation**: A single layout is effective across languages in terms of engagement time. However, continue monitoring for evolving preferences and consider A/B testing for language-specific content tweaks if needed."
   ]
  },
  {
   "cell_type": "markdown",
   "id": "3197cd0a-26e1-4a96-9d9b-37265ce1a010",
   "metadata": {},
   "source": [
    "\n",
    "### Data Dictionary\n",
    "\n",
    "The data contains information regarding the interaction of users in both groups with the two versions of the landing page.\n",
    "\n",
    "**user_id** - Unique user ID of the person visiting the website <br>\n",
    "**group** - Whether the user belongs to the first group (control) or the second group (treatment)<br>\n",
    "**landing_page** - Whether the landing page is new or old<br>\n",
    "**time_spent_on_the_page** - Time (in minutes) spent by the user on the landing page<br>\n",
    "**converted** - Whether the user gets converted to a subscriber of the news portal or not<br>\n",
    "**language_preferred** - Language chosen by the user to view the landing page"
   ]
  },
  {
   "cell_type": "markdown",
   "id": "a6a3d218",
   "metadata": {
    "id": "a6a3d218"
   },
   "source": [
    "## Import all the necessary libraries"
   ]
  },
  {
   "cell_type": "code",
   "execution_count": 7,
   "id": "r_5zUIePGS-1",
   "metadata": {
    "id": "r_5zUIePGS-1"
   },
   "outputs": [],
   "source": [
    "# Installing the libraries with the specified version.\n",
    "#!pip install numpy==1.25.2 pandas==1.5.3 matplotlib==3.7.1 seaborn==0.13.1 scipy==1.11.4 -q --user"
   ]
  },
  {
   "cell_type": "markdown",
   "id": "DAaycw-QP-j9",
   "metadata": {
    "id": "DAaycw-QP-j9"
   },
   "source": [
    "**Note**: *After running the above cell, kindly restart the notebook kernel and run all cells sequentially from the start again.*"
   ]
  },
  {
   "cell_type": "markdown",
   "id": "6970dd99",
   "metadata": {
    "id": "6970dd99"
   },
   "source": [
    "## Reading the Data into a DataFrame"
   ]
  },
  {
   "cell_type": "code",
   "execution_count": 10,
   "id": "d3b95640",
   "metadata": {
    "id": "d3b95640"
   },
   "outputs": [],
   "source": [
    "# Libraries to help with reading and manipulating data\n",
    "import numpy as np\n",
    "import pandas as pd\n",
    "\n",
    "# Libraries to help with data visualization\n",
    "import matplotlib.pyplot as plt\n",
    "import seaborn as sns\n",
    "%matplotlib inline \n",
    "\n",
    "# Library to help with statistical analysis\n",
    "import scipy.stats as stats "
   ]
  },
  {
   "cell_type": "code",
   "execution_count": 11,
   "id": "e8c6ec0f-312b-42fc-973d-a8cf624b0936",
   "metadata": {},
   "outputs": [],
   "source": [
    "data = pd.read_csv('abtest.csv')"
   ]
  },
  {
   "cell_type": "markdown",
   "id": "9d75cfa2",
   "metadata": {
    "id": "9d75cfa2"
   },
   "source": [
    "## Explore the dataset and extract insights using Exploratory Data Analysis"
   ]
  },
  {
   "cell_type": "markdown",
   "id": "27201534",
   "metadata": {
    "id": "27201534"
   },
   "source": [
    "- Data Overview\n",
    "  - Viewing the first and last few rows of the dataset\n",
    "  - Checking the shape of the dataset\n",
    "  - Getting the statistical summary for the variables\n",
    "- Check for missing values\n",
    "- Check for duplicates"
   ]
  },
  {
   "cell_type": "code",
   "execution_count": 14,
   "id": "d6208d06-595e-497d-869c-341f3094786d",
   "metadata": {},
   "outputs": [
    {
     "data": {
      "text/html": [
       "<div>\n",
       "<style scoped>\n",
       "    .dataframe tbody tr th:only-of-type {\n",
       "        vertical-align: middle;\n",
       "    }\n",
       "\n",
       "    .dataframe tbody tr th {\n",
       "        vertical-align: top;\n",
       "    }\n",
       "\n",
       "    .dataframe thead th {\n",
       "        text-align: right;\n",
       "    }\n",
       "</style>\n",
       "<table border=\"1\" class=\"dataframe\">\n",
       "  <thead>\n",
       "    <tr style=\"text-align: right;\">\n",
       "      <th></th>\n",
       "      <th>user_id</th>\n",
       "      <th>group</th>\n",
       "      <th>landing_page</th>\n",
       "      <th>time_spent_on_the_page</th>\n",
       "      <th>converted</th>\n",
       "      <th>language_preferred</th>\n",
       "    </tr>\n",
       "  </thead>\n",
       "  <tbody>\n",
       "    <tr>\n",
       "      <th>0</th>\n",
       "      <td>546592</td>\n",
       "      <td>control</td>\n",
       "      <td>old</td>\n",
       "      <td>3.48</td>\n",
       "      <td>no</td>\n",
       "      <td>Spanish</td>\n",
       "    </tr>\n",
       "    <tr>\n",
       "      <th>1</th>\n",
       "      <td>546468</td>\n",
       "      <td>treatment</td>\n",
       "      <td>new</td>\n",
       "      <td>7.13</td>\n",
       "      <td>yes</td>\n",
       "      <td>English</td>\n",
       "    </tr>\n",
       "    <tr>\n",
       "      <th>2</th>\n",
       "      <td>546462</td>\n",
       "      <td>treatment</td>\n",
       "      <td>new</td>\n",
       "      <td>4.40</td>\n",
       "      <td>no</td>\n",
       "      <td>Spanish</td>\n",
       "    </tr>\n",
       "    <tr>\n",
       "      <th>3</th>\n",
       "      <td>546567</td>\n",
       "      <td>control</td>\n",
       "      <td>old</td>\n",
       "      <td>3.02</td>\n",
       "      <td>no</td>\n",
       "      <td>French</td>\n",
       "    </tr>\n",
       "    <tr>\n",
       "      <th>4</th>\n",
       "      <td>546459</td>\n",
       "      <td>treatment</td>\n",
       "      <td>new</td>\n",
       "      <td>4.75</td>\n",
       "      <td>yes</td>\n",
       "      <td>Spanish</td>\n",
       "    </tr>\n",
       "  </tbody>\n",
       "</table>\n",
       "</div>"
      ],
      "text/plain": [
       "   user_id      group landing_page  time_spent_on_the_page converted  \\\n",
       "0   546592    control          old                    3.48        no   \n",
       "1   546468  treatment          new                    7.13       yes   \n",
       "2   546462  treatment          new                    4.40        no   \n",
       "3   546567    control          old                    3.02        no   \n",
       "4   546459  treatment          new                    4.75       yes   \n",
       "\n",
       "  language_preferred  \n",
       "0            Spanish  \n",
       "1            English  \n",
       "2            Spanish  \n",
       "3             French  \n",
       "4            Spanish  "
      ]
     },
     "execution_count": 14,
     "metadata": {},
     "output_type": "execute_result"
    }
   ],
   "source": [
    "data.head() # return the first five rows"
   ]
  },
  {
   "cell_type": "code",
   "execution_count": 15,
   "id": "90f116ee-83f7-4de1-84f9-9c2a0e1221e8",
   "metadata": {},
   "outputs": [
    {
     "name": "stdout",
     "output_type": "stream",
     "text": [
      "<class 'pandas.core.frame.DataFrame'>\n",
      "RangeIndex: 100 entries, 0 to 99\n",
      "Data columns (total 6 columns):\n",
      " #   Column                  Non-Null Count  Dtype  \n",
      "---  ------                  --------------  -----  \n",
      " 0   user_id                 100 non-null    int64  \n",
      " 1   group                   100 non-null    object \n",
      " 2   landing_page            100 non-null    object \n",
      " 3   time_spent_on_the_page  100 non-null    float64\n",
      " 4   converted               100 non-null    object \n",
      " 5   language_preferred      100 non-null    object \n",
      "dtypes: float64(1), int64(1), object(4)\n",
      "memory usage: 4.8+ KB\n"
     ]
    }
   ],
   "source": [
    "data.info() # returns datatypes of the different columns in the dataset"
   ]
  },
  {
   "cell_type": "markdown",
   "id": "32b3b7e9-8a50-4a6a-bf0d-d106ca8a1d95",
   "metadata": {},
   "source": [
    "There are different datatypes in dataset like integer, object and float"
   ]
  },
  {
   "cell_type": "code",
   "execution_count": 18,
   "id": "58b14532-4d0f-4db8-9466-653200502cd1",
   "metadata": {},
   "outputs": [
    {
     "data": {
      "text/plain": [
       "user_id                   0\n",
       "group                     0\n",
       "landing_page              0\n",
       "time_spent_on_the_page    0\n",
       "converted                 0\n",
       "language_preferred        0\n",
       "dtype: int64"
      ]
     },
     "execution_count": 18,
     "metadata": {},
     "output_type": "execute_result"
    }
   ],
   "source": [
    "data.isnull().sum() #returns numbers of null values by columns"
   ]
  },
  {
   "cell_type": "markdown",
   "id": "07526830-b987-44c5-a82a-f92cc43367d2",
   "metadata": {},
   "source": [
    "no missing values"
   ]
  },
  {
   "cell_type": "markdown",
   "id": "7d06a584-403b-4e3f-978c-30c277e8ff29",
   "metadata": {},
   "source": [
    "#### Statistical summary of the dataset"
   ]
  },
  {
   "cell_type": "code",
   "execution_count": 21,
   "id": "96647d19-d1f9-4ec2-8c95-7b875d8805d6",
   "metadata": {},
   "outputs": [
    {
     "data": {
      "text/html": [
       "<div>\n",
       "<style scoped>\n",
       "    .dataframe tbody tr th:only-of-type {\n",
       "        vertical-align: middle;\n",
       "    }\n",
       "\n",
       "    .dataframe tbody tr th {\n",
       "        vertical-align: top;\n",
       "    }\n",
       "\n",
       "    .dataframe thead th {\n",
       "        text-align: right;\n",
       "    }\n",
       "</style>\n",
       "<table border=\"1\" class=\"dataframe\">\n",
       "  <thead>\n",
       "    <tr style=\"text-align: right;\">\n",
       "      <th></th>\n",
       "      <th>count</th>\n",
       "      <th>mean</th>\n",
       "      <th>std</th>\n",
       "      <th>min</th>\n",
       "      <th>25%</th>\n",
       "      <th>50%</th>\n",
       "      <th>75%</th>\n",
       "      <th>max</th>\n",
       "    </tr>\n",
       "  </thead>\n",
       "  <tbody>\n",
       "    <tr>\n",
       "      <th>user_id</th>\n",
       "      <td>100.0</td>\n",
       "      <td>546517.0000</td>\n",
       "      <td>52.295779</td>\n",
       "      <td>546443.00</td>\n",
       "      <td>546467.75</td>\n",
       "      <td>546492.500</td>\n",
       "      <td>546567.2500</td>\n",
       "      <td>546592.00</td>\n",
       "    </tr>\n",
       "    <tr>\n",
       "      <th>time_spent_on_the_page</th>\n",
       "      <td>100.0</td>\n",
       "      <td>5.3778</td>\n",
       "      <td>2.378166</td>\n",
       "      <td>0.19</td>\n",
       "      <td>3.88</td>\n",
       "      <td>5.415</td>\n",
       "      <td>7.0225</td>\n",
       "      <td>10.71</td>\n",
       "    </tr>\n",
       "  </tbody>\n",
       "</table>\n",
       "</div>"
      ],
      "text/plain": [
       "                        count         mean        std        min        25%  \\\n",
       "user_id                 100.0  546517.0000  52.295779  546443.00  546467.75   \n",
       "time_spent_on_the_page  100.0       5.3778   2.378166       0.19       3.88   \n",
       "\n",
       "                               50%          75%        max  \n",
       "user_id                 546492.500  546567.2500  546592.00  \n",
       "time_spent_on_the_page       5.415       7.0225      10.71  "
      ]
     },
     "execution_count": 21,
     "metadata": {},
     "output_type": "execute_result"
    }
   ],
   "source": [
    "data.describe().T # statistical summary of the data"
   ]
  },
  {
   "cell_type": "code",
   "execution_count": 22,
   "id": "abbfdc99-d280-49e5-ab61-df212052dc09",
   "metadata": {},
   "outputs": [
    {
     "data": {
      "text/plain": [
       "100"
      ]
     },
     "execution_count": 22,
     "metadata": {},
     "output_type": "execute_result"
    }
   ],
   "source": [
    "data['user_id'].nunique() # dublicates "
   ]
  },
  {
   "cell_type": "markdown",
   "id": "8840e878-47c8-4d72-b1e8-d77278207cba",
   "metadata": {},
   "source": [
    "There are no dublicates"
   ]
  },
  {
   "cell_type": "markdown",
   "id": "68f3b2c9",
   "metadata": {
    "id": "68f3b2c9"
   },
   "source": [
    "### Univariate Analysis"
   ]
  },
  {
   "cell_type": "code",
   "execution_count": 25,
   "id": "23cecf02-ecd0-4436-98e8-2f6945b87f7a",
   "metadata": {},
   "outputs": [
    {
     "data": {
      "image/png": "[encoded data removed]",
      "text/plain": [
       "<Figure size 640x480 with 1 Axes>"
      ]
     },
     "metadata": {},
     "output_type": "display_data"
    }
   ],
   "source": [
    "sns.countplot(data=data, x='group', hue='landing_page');"
   ]
  },
  {
   "cell_type": "markdown",
   "id": "c67c2428-75cb-445e-979f-8055a1d466e7",
   "metadata": {},
   "source": [
    "Landinding page and groups divided correctly: Group = Landing page"
   ]
  },
  {
   "cell_type": "markdown",
   "id": "ea6bdef2-b197-426a-980c-1baef1c83061",
   "metadata": {},
   "source": [
    "#### time_spent_on_the_page"
   ]
  },
  {
   "cell_type": "code",
   "execution_count": 28,
   "id": "80a55a83-4b0a-4263-9acf-bb1a05b9cd39",
   "metadata": {},
   "outputs": [
    {
     "data": {
      "image/png": "[encoded data removed]",
      "text/plain": [
       "<Figure size 640x480 with 1 Axes>"
      ]
     },
     "metadata": {},
     "output_type": "display_data"
    },
    {
     "data": {
      "image/png": "[encoded data removed]",
      "text/plain": [
       "<Figure size 640x480 with 1 Axes>"
      ]
     },
     "metadata": {},
     "output_type": "display_data"
    }
   ],
   "source": [
    "sns.histplot(data=data,x='time_spent_on_the_page', kde=True, bins=10)\n",
    "plt.show()\n",
    "sns.boxplot(data=data,x='time_spent_on_the_page')\n",
    "plt.show()"
   ]
  },
  {
   "cell_type": "markdown",
   "id": "0525beeb-2ca4-4043-a23a-1b77c5a7de92",
   "metadata": {},
   "source": [
    "no outliers Looks like normal distribution"
   ]
  },
  {
   "cell_type": "markdown",
   "id": "94708133-3b5f-4d9b-a764-a71fb49ca9c7",
   "metadata": {},
   "source": [
    "#### Group"
   ]
  },
  {
   "cell_type": "code",
   "execution_count": 31,
   "id": "f8089880-b9c5-421a-9bd7-cf2c37a95866",
   "metadata": {},
   "outputs": [
    {
     "data": {
      "text/plain": [
       "group\n",
       "control      50\n",
       "treatment    50\n",
       "Name: count, dtype: int64"
      ]
     },
     "execution_count": 31,
     "metadata": {},
     "output_type": "execute_result"
    }
   ],
   "source": [
    "data['group'].value_counts()"
   ]
  },
  {
   "cell_type": "code",
   "execution_count": 32,
   "id": "b761d6a0-453a-4de0-96a3-eeeb9b6160fa",
   "metadata": {},
   "outputs": [
    {
     "data": {
      "image/png": "[encoded data removed]",
      "text/plain": [
       "<Figure size 640x480 with 1 Axes>"
      ]
     },
     "metadata": {},
     "output_type": "display_data"
    }
   ],
   "source": [
    "sns.countplot(data=data, x='group');"
   ]
  },
  {
   "cell_type": "markdown",
   "id": "e979265e-c2a7-4471-8778-26cfa8335272",
   "metadata": {},
   "source": [
    "#### landing_page"
   ]
  },
  {
   "cell_type": "code",
   "execution_count": 34,
   "id": "1aac0e30-2022-4e85-b434-5a817639a8ff",
   "metadata": {},
   "outputs": [
    {
     "data": {
      "text/plain": [
       "landing_page\n",
       "old    50\n",
       "new    50\n",
       "Name: count, dtype: int64"
      ]
     },
     "execution_count": 34,
     "metadata": {},
     "output_type": "execute_result"
    }
   ],
   "source": [
    "data['landing_page'].value_counts()"
   ]
  },
  {
   "cell_type": "code",
   "execution_count": 35,
   "id": "defd9c7f-0e03-4f6b-8523-6a02da60d3f8",
   "metadata": {},
   "outputs": [
    {
     "data": {
      "image/png": "[encoded data removed]",
      "text/plain": [
       "<Figure size 640x480 with 1 Axes>"
      ]
     },
     "metadata": {},
     "output_type": "display_data"
    }
   ],
   "source": [
    "sns.countplot(data=data, x='landing_page');"
   ]
  },
  {
   "cell_type": "markdown",
   "id": "ded3dd07-0f31-4375-8a81-ec2369876a43",
   "metadata": {},
   "source": [
    "#### converted"
   ]
  },
  {
   "cell_type": "code",
   "execution_count": 37,
   "id": "36b2b9cb-c040-4648-8e67-ca976c3c024c",
   "metadata": {},
   "outputs": [
    {
     "data": {
      "text/plain": [
       "converted\n",
       "yes    54\n",
       "no     46\n",
       "Name: count, dtype: int64"
      ]
     },
     "execution_count": 37,
     "metadata": {},
     "output_type": "execute_result"
    }
   ],
   "source": [
    "data['converted'].value_counts()"
   ]
  },
  {
   "cell_type": "code",
   "execution_count": 38,
   "id": "aa29218f-de1b-4916-adad-99978a2ec333",
   "metadata": {},
   "outputs": [
    {
     "data": {
      "image/png": "[encoded data removed]",
      "text/plain": [
       "<Figure size 640x480 with 1 Axes>"
      ]
     },
     "metadata": {},
     "output_type": "display_data"
    }
   ],
   "source": [
    "sns.countplot(data=data, x='converted');"
   ]
  },
  {
   "cell_type": "markdown",
   "id": "671ef03c-0b38-49c1-96b4-d8ccc34a61d6",
   "metadata": {},
   "source": [
    "#### language_preferred"
   ]
  },
  {
   "cell_type": "code",
   "execution_count": 40,
   "id": "5f954086-77c4-418f-af63-a12960e6cc9f",
   "metadata": {},
   "outputs": [
    {
     "data": {
      "text/plain": [
       "language_preferred\n",
       "Spanish    34\n",
       "French     34\n",
       "English    32\n",
       "Name: count, dtype: int64"
      ]
     },
     "execution_count": 40,
     "metadata": {},
     "output_type": "execute_result"
    }
   ],
   "source": [
    "data['language_preferred'].value_counts()"
   ]
  },
  {
   "cell_type": "code",
   "execution_count": 41,
   "id": "45dd1d08-a29d-46c8-a181-b996c082d691",
   "metadata": {},
   "outputs": [
    {
     "data": {
      "image/png": "[encoded data removed]",
      "text/plain": [
       "<Figure size 640x480 with 1 Axes>"
      ]
     },
     "metadata": {},
     "output_type": "display_data"
    }
   ],
   "source": [
    "sns.countplot(data=data, x='language_preferred');"
   ]
  },
  {
   "cell_type": "markdown",
   "id": "fad2de2f",
   "metadata": {
    "id": "fad2de2f"
   },
   "source": [
    "### Bivariate Analysis"
   ]
  },
  {
   "cell_type": "markdown",
   "id": "635e706d-ff33-426e-ab51-f51ebef2318c",
   "metadata": {},
   "source": [
    "#### group vs time spent"
   ]
  },
  {
   "cell_type": "code",
   "execution_count": 44,
   "id": "58e9a1d0",
   "metadata": {
    "id": "58e9a1d0"
   },
   "outputs": [
    {
     "data": {
      "image/png": "[encoded data removed]",
      "text/plain": [
       "<Figure size 640x480 with 1 Axes>"
      ]
     },
     "metadata": {},
     "output_type": "display_data"
    }
   ],
   "source": [
    "sns.boxplot(data=data, x='group', y='time_spent_on_the_page')\n",
    "plt.show()"
   ]
  },
  {
   "cell_type": "markdown",
   "id": "65db97dc-a636-4a9e-a276-a1aea1e6346e",
   "metadata": {},
   "source": [
    "Looks like users spend more time on thenew page in average"
   ]
  },
  {
   "cell_type": "markdown",
   "id": "8cab052e-4730-4a2d-9944-03125147f83d",
   "metadata": {},
   "source": [
    "#### Language vs Time spent"
   ]
  },
  {
   "cell_type": "code",
   "execution_count": 47,
   "id": "c8287d55-e64d-46c1-94e0-db64f309da2c",
   "metadata": {},
   "outputs": [
    {
     "data": {
      "image/png": "[encoded data removed]",
      "text/plain": [
       "<Figure size 640x480 with 1 Axes>"
      ]
     },
     "metadata": {},
     "output_type": "display_data"
    }
   ],
   "source": [
    "sns.boxplot(data=data, x='language_preferred', y='time_spent_on_the_page')\n",
    "plt.show()"
   ]
  },
  {
   "cell_type": "code",
   "execution_count": 48,
   "id": "dfc42914-70ac-420b-8a78-c5170f6fe329",
   "metadata": {},
   "outputs": [
    {
     "data": {
      "image/png": "[encoded data removed]",
      "text/plain": [
       "<Figure size 640x480 with 1 Axes>"
      ]
     },
     "metadata": {},
     "output_type": "display_data"
    }
   ],
   "source": [
    "sns.boxplot(data=data, x='language_preferred', y='time_spent_on_the_page', hue = 'group')\n",
    "plt.show()"
   ]
  },
  {
   "cell_type": "markdown",
   "id": "eeaefbca-e59f-4af8-af92-6f85781b5242",
   "metadata": {},
   "source": [
    "#### Group vs converted users"
   ]
  },
  {
   "cell_type": "code",
   "execution_count": 50,
   "id": "cadb050e-29ba-442c-ad62-738740761835",
   "metadata": {},
   "outputs": [
    {
     "data": {
      "image/png": "[encoded data removed]",
      "text/plain": [
       "<Figure size 640x480 with 1 Axes>"
      ]
     },
     "metadata": {},
     "output_type": "display_data"
    }
   ],
   "source": [
    "sns.countplot(data=data, x='group', hue='converted');"
   ]
  },
  {
   "cell_type": "markdown",
   "id": "0ee39688-9807-484b-80e3-f3cb23f41160",
   "metadata": {},
   "source": [
    "more converted on the new page"
   ]
  },
  {
   "cell_type": "code",
   "execution_count": 52,
   "id": "bcdc35a7-cd8a-4aed-a6d1-6606efc78b15",
   "metadata": {},
   "outputs": [
    {
     "data": {
      "image/png": "[encoded data removed]",
      "text/plain": [
       "<Figure size 640x480 with 1 Axes>"
      ]
     },
     "metadata": {},
     "output_type": "display_data"
    }
   ],
   "source": [
    "sns.countplot(data=data, x='language_preferred', hue='converted');"
   ]
  },
  {
   "cell_type": "markdown",
   "id": "779979d4-d592-4482-b341-f91fda8a1a70",
   "metadata": {},
   "source": [
    "#### Conveted vs time spent"
   ]
  },
  {
   "cell_type": "code",
   "execution_count": 54,
   "id": "49d3bccc-a58c-4084-a6cb-f20cd4388cb7",
   "metadata": {},
   "outputs": [
    {
     "data": {
      "image/png": "[encoded data removed]",
      "text/plain": [
       "<Figure size 640x480 with 1 Axes>"
      ]
     },
     "metadata": {},
     "output_type": "display_data"
    }
   ],
   "source": [
    "sns.boxplot(data=data, x='converted', y='time_spent_on_the_page')\n",
    "plt.show()"
   ]
  },
  {
   "cell_type": "markdown",
   "id": "f9b0e6a2-9fa2-4a32-b32d-5acd523976a8",
   "metadata": {},
   "source": [
    "Converted users spend more time on the site"
   ]
  },
  {
   "cell_type": "markdown",
   "id": "27906576",
   "metadata": {
    "id": "27906576"
   },
   "source": [
    "## 1. Do the users spend more time on the new landing page than the existing landing page?"
   ]
  },
  {
   "cell_type": "markdown",
   "id": "e5fdf0c8",
   "metadata": {
    "id": "e5fdf0c8"
   },
   "source": [
    "### Perform Visual Analysis"
   ]
  },
  {
   "cell_type": "code",
   "execution_count": 58,
   "id": "6eZJa41eg21n",
   "metadata": {
    "id": "6eZJa41eg21n"
   },
   "outputs": [
    {
     "data": {
      "image/png": "[encoded data removed]",
      "text/plain": [
       "<Figure size 640x480 with 1 Axes>"
      ]
     },
     "metadata": {},
     "output_type": "display_data"
    }
   ],
   "source": [
    "sns.boxplot(data=data, x='group', y='time_spent_on_the_page')\n",
    "plt.show()"
   ]
  },
  {
   "cell_type": "markdown",
   "id": "56b3dafd",
   "metadata": {
    "id": "56b3dafd"
   },
   "source": [
    "### Step 1: Define the null and alternate hypotheses"
   ]
  },
  {
   "cell_type": "markdown",
   "id": "d2ac77ef",
   "metadata": {
    "id": "d2ac77ef"
   },
   "source": [
    "> $H_0:$ No difference in time spent. <br>\n",
    "\n",
    "> $H_a:$ Users spend more time on the new landing page.\n",
    "\n",
    "Mathematically, the above formulated hypotheses can be written as:\n",
    "\n",
    ">$H_0: \\mu_t = \\mu_c $ <br>\n",
    "$H_a: \\mu_t > \\mu_c $ <br><br>\n",
    "where <br>\n",
    "$\\mu_t  - \\mu$ treatment group (the new landing page) <br>\n",
    "$\\mu_c  - \\mu$ control group (the old landing page)"
   ]
  },
  {
   "cell_type": "markdown",
   "id": "c7ee4907",
   "metadata": {
    "id": "c7ee4907"
   },
   "source": [
    "### Step 2: Select Appropriate test"
   ]
  },
  {
   "cell_type": "markdown",
   "id": "2c183cd7",
   "metadata": {
    "id": "2c183cd7"
   },
   "source": [
    "Two-sample t-test (independent samples)"
   ]
  },
  {
   "cell_type": "markdown",
   "id": "3f58c9a7",
   "metadata": {
    "id": "3f58c9a7"
   },
   "source": [
    "### Step 3: Decide the significance level"
   ]
  },
  {
   "cell_type": "markdown",
   "id": "92d7d7ee",
   "metadata": {
    "id": "92d7d7ee"
   },
   "source": [
    "As given in the problem statement, we select $\\alpha = 0.05$."
   ]
  },
  {
   "cell_type": "markdown",
   "id": "5fed2eac",
   "metadata": {
    "id": "5fed2eac"
   },
   "source": [
    "### Step 4: Collect and prepare data"
   ]
  },
  {
   "cell_type": "code",
   "execution_count": 66,
   "id": "f5a59495",
   "metadata": {
    "id": "f5a59495"
   },
   "outputs": [],
   "source": [
    "old_landing_page_time = data[data['landing_page'] == 'old']['time_spent_on_the_page']\n",
    "new_landing_page_time = data[data['landing_page'] == 'new']['time_spent_on_the_page']"
   ]
  },
  {
   "cell_type": "markdown",
   "id": "f5c5258d",
   "metadata": {
    "id": "f5c5258d"
   },
   "source": [
    "### Step 5: Calculate the p-value"
   ]
  },
  {
   "cell_type": "code",
   "execution_count": 68,
   "id": "fac8594a",
   "metadata": {
    "id": "fac8594a"
   },
   "outputs": [
    {
     "name": "stdout",
     "output_type": "stream",
     "text": [
      "The p-value is 0.0001392381225166549\n"
     ]
    }
   ],
   "source": [
    "# import the required function\n",
    "from scipy.stats import ttest_ind\n",
    "\n",
    "# find the p-value\n",
    "test_stat, p_value = ttest_ind(new_landing_page_time, old_landing_page_time, equal_var=False, alternative='greater')\n",
    "print('The p-value is', p_value)"
   ]
  },
  {
   "cell_type": "markdown",
   "id": "359b12f8",
   "metadata": {
    "id": "359b12f8"
   },
   "source": [
    "### Step 6: Compare the p-value with $\\alpha$"
   ]
  },
  {
   "cell_type": "code",
   "execution_count": 70,
   "id": "7be47289",
   "metadata": {
    "id": "7be47289"
   },
   "outputs": [
    {
     "name": "stdout",
     "output_type": "stream",
     "text": [
      "As the p-value 0.0001392381225166549 is less than the level of significance, we reject the null hypothesis.\n"
     ]
    }
   ],
   "source": [
    "# print the conclusion based on p-value\n",
    "if p_value < 0.05:\n",
    "    print(f'As the p-value {p_value} is less than the level of significance, we reject the null hypothesis.')\n",
    "else:\n",
    "    print(f'As the p-value {p_value} is greater than the level of significance, we fail to reject the null hypothesis.')"
   ]
  },
  {
   "cell_type": "markdown",
   "id": "d9affc84",
   "metadata": {
    "id": "d9affc84"
   },
   "source": [
    "### Step 7:  Draw inference"
   ]
  },
  {
   "cell_type": "markdown",
   "id": "6b16dd4b",
   "metadata": {
    "id": "6b16dd4b"
   },
   "source": [
    "Since the p-value is less than the 5% significance level, we reject the null hypothesis. Hence, we have enough statistical evidence to say that the users spend more time on the new page than on the old landing page"
   ]
  },
  {
   "cell_type": "markdown",
   "id": "1ad0823a",
   "metadata": {
    "id": "1ad0823a"
   },
   "source": [
    "**A similar approach can be followed to answer the other questions.**"
   ]
  },
  {
   "cell_type": "markdown",
   "id": "353e9d24",
   "metadata": {
    "id": "353e9d24"
   },
   "source": [
    "## 2. Is the conversion rate (the proportion of users who visit the landing page and get converted) for the new page greater than the conversion rate for the old page?"
   ]
  },
  {
   "cell_type": "markdown",
   "id": "c1be635b-ea82-42ee-9264-46092c7246f4",
   "metadata": {
    "id": "b7f52898"
   },
   "source": [
    "### Perform Visual Analysis"
   ]
  },
  {
   "cell_type": "code",
   "execution_count": 76,
   "id": "5716b0ea-e226-4c78-877a-405f6253348d",
   "metadata": {},
   "outputs": [
    {
     "data": {
      "image/png": "[encoded data removed]",
      "text/plain": [
       "<Figure size 640x480 with 1 Axes>"
      ]
     },
     "metadata": {},
     "output_type": "display_data"
    }
   ],
   "source": [
    "# create a stacked bar plot to compare the distributions of both the categorical features\n",
    "pd.crosstab(data['group'],data['converted'],normalize='index').plot(kind='bar',stacked =True)\n",
    "plt.legend()\n",
    "plt.show()"
   ]
  },
  {
   "cell_type": "markdown",
   "id": "55228c67-86ec-401e-94db-2e962d77218c",
   "metadata": {},
   "source": [
    "Convertion in new lending page is greater Lets check it"
   ]
  },
  {
   "cell_type": "markdown",
   "id": "64918d0d-9c98-416d-a0a4-2d5ddb06836f",
   "metadata": {},
   "source": [
    "### Step 1: Define the null and alternate hypotheses"
   ]
  },
  {
   "cell_type": "markdown",
   "id": "8d625ab9-cdb5-4ad0-b05c-d93564c8b544",
   "metadata": {},
   "source": [
    "> $H_0:$ There is no significant difference in the conversion rates between the existing and the new landing pages <br>\n",
    "\n",
    "> $H_a:$ The conversion rate for the new landing page is significantly greater than the conversion rate for the existing landing page.\n",
    "\n",
    "Mathematically, the above formulated hypotheses can be written as:\n",
    "\n",
    ">$H_0: p_t = p_c $ <br>\n",
    "$H_a: p_t > p_c $ <br><br>\n",
    "where <br>\n",
    "$p_t  - p$ treatment group (the new landing page) <br>\n",
    "$p_c  - p$ control group (the old landing page)"
   ]
  },
  {
   "cell_type": "markdown",
   "id": "304c0e0c-d1d3-48ce-b270-d9d10c1a50a5",
   "metadata": {},
   "source": [
    "### Step 2: Select Appropriate test"
   ]
  },
  {
   "cell_type": "markdown",
   "id": "20f54504-242e-4a6f-87a7-6f37571706df",
   "metadata": {},
   "source": [
    "The formulated hypotheses are concerned with proportions. A test of proportions can be used to analyse the hypotheses and draw a conclusion. We shall use a Proportions Z test for this problem."
   ]
  },
  {
   "cell_type": "markdown",
   "id": "d9444c69-66a7-442e-b4ab-77bd29f125cf",
   "metadata": {},
   "source": [
    "### Step 3: Decide the significance level"
   ]
  },
  {
   "cell_type": "markdown",
   "id": "afcd0dab-1c50-4295-b0da-5bed4cd4158c",
   "metadata": {},
   "source": [
    "As given in the problem statement, we select $\\alpha = 0.05$."
   ]
  },
  {
   "cell_type": "markdown",
   "id": "82838971-d763-40d1-b685-cdaf39482471",
   "metadata": {},
   "source": [
    "### Step 4: Collect and prepare data"
   ]
  },
  {
   "cell_type": "code",
   "execution_count": 85,
   "id": "d5785e17-76a7-4598-9326-e1df888658dd",
   "metadata": {},
   "outputs": [
    {
     "name": "stdout",
     "output_type": "stream",
     "text": [
      "The numbers of new and old converted are 33 and 21 respectively\n",
      "The total numbers of new and old are 50 and 50 respectively\n"
     ]
    }
   ],
   "source": [
    "# number of converted users in new landing page\n",
    "new_converted = data[data['group'] == 'treatment']['converted'].value_counts()['yes']\n",
    "# number of converted users in old landing page\n",
    "old_converted = data[data['group'] == 'control']['converted'].value_counts()['yes']\n",
    "\n",
    "print('The numbers of new and old converted are {0} and {1} respectively'.format(new_converted, old_converted))\n",
    "\n",
    "# number of new users in the data\n",
    "total_new_users = data.group.value_counts()['treatment']\n",
    "\n",
    "# number of new users in the data\n",
    "total_old_users = data.group.value_counts()['control']\n",
    "\n",
    "print('The total numbers of new and old are {0} and {1} respectively'.format(total_new_users, total_old_users))"
   ]
  },
  {
   "cell_type": "code",
   "execution_count": 86,
   "id": "b7b93c36-e0bd-4665-83dd-08861b9564ac",
   "metadata": {},
   "outputs": [
    {
     "name": "stdout",
     "output_type": "stream",
     "text": [
      " The proportions of conveted users in new and old are 0.66, 0.42 respectively\n"
     ]
    }
   ],
   "source": [
    "print(f' The proportions of conveted users in new and old are {round(new_converted/total_new_users,2)}, {round(old_converted/total_old_users,2)} respectively')"
   ]
  },
  {
   "cell_type": "markdown",
   "id": "41a5e658-7c4f-4abc-8c93-79de1932e992",
   "metadata": {},
   "source": [
    "### Step 5: Calculate the p-value"
   ]
  },
  {
   "cell_type": "code",
   "execution_count": 88,
   "id": "fa7ca7d4-2322-4b8d-ba3a-3b541bd191c7",
   "metadata": {},
   "outputs": [],
   "source": [
    "from statsmodels.stats.proportion import proportions_ztest"
   ]
  },
  {
   "cell_type": "code",
   "execution_count": 89,
   "id": "a36c6b2e-6d17-4f18-9e98-bcd30c99a9f6",
   "metadata": {},
   "outputs": [
    {
     "name": "stdout",
     "output_type": "stream",
     "text": [
      "The p-value is 0.008026308204056278\n"
     ]
    }
   ],
   "source": [
    "# findthe p-value using proportion_ztest\n",
    "stat, pval = proportions_ztest([new_converted, old_converted] , [total_new_users, total_old_users], alternative = 'larger')\n",
    "\n",
    "# print the p-value\n",
    "print('The p-value is '+ str(pval))"
   ]
  },
  {
   "cell_type": "markdown",
   "id": "adabe057-d9a6-4f8e-bbe4-4fd6745ea6c8",
   "metadata": {},
   "source": [
    "### Step 6: Compare the p-value with $\\alpha$"
   ]
  },
  {
   "cell_type": "code",
   "execution_count": 91,
   "id": "34a335b3-d597-49b2-96be-4f8c035b6ffd",
   "metadata": {},
   "outputs": [
    {
     "name": "stdout",
     "output_type": "stream",
     "text": [
      "As the p-value 0.0001392381225166549 is less than the level of significance, we reject the null hypothesis.\n"
     ]
    }
   ],
   "source": [
    "# print the conclusion based on p-value\n",
    "if p_value < 0.05:\n",
    "    print(f'As the p-value {p_value} is less than the level of significance, we reject the null hypothesis.')\n",
    "else:\n",
    "    print(f'As the p-value {p_value} is greater than the level of significance, we fail to reject the null hypothesis.')"
   ]
  },
  {
   "cell_type": "markdown",
   "id": "294dfb40-a825-4384-a692-2c6cffd3a862",
   "metadata": {},
   "source": [
    "### Step 7:  Draw inference"
   ]
  },
  {
   "cell_type": "markdown",
   "id": "1cb2e6bd-a93f-44ff-839e-83ff02e5865a",
   "metadata": {},
   "source": [
    "Since the pvalue is < 0.05, we reject the null hypothesis. Hence, we have enough statistical evidence to say that the proportion of users in the new landing page is greate from the proportion of users in the old landing page."
   ]
  },
  {
   "cell_type": "markdown",
   "id": "d49bfa2d",
   "metadata": {
    "id": "d49bfa2d"
   },
   "source": [
    "## 3. Is the conversion and preferred language are independent or related?"
   ]
  },
  {
   "cell_type": "markdown",
   "id": "4b4d00a5-a347-41ce-aa5e-fa5b0402977b",
   "metadata": {
    "id": "b0e63f17"
   },
   "source": [
    "### Perform Visual Analysis"
   ]
  },
  {
   "cell_type": "code",
   "execution_count": 96,
   "id": "cfca374c-077a-44e6-9eb9-75e1c803c7db",
   "metadata": {},
   "outputs": [
    {
     "data": {
      "image/png": "[encoded data removed]",
      "text/plain": [
       "<Figure size 640x480 with 1 Axes>"
      ]
     },
     "metadata": {},
     "output_type": "display_data"
    }
   ],
   "source": [
    "# create a stacked bar plot to compare the distributions of both the categorical features\n",
    "pd.crosstab(data['language_preferred'],data['converted'],normalize='index').plot(kind='bar',stacked =True)\n",
    "plt.legend()\n",
    "plt.show()"
   ]
  },
  {
   "cell_type": "markdown",
   "id": "79a9f7a7-4e57-41b0-865c-657cef334cf1",
   "metadata": {},
   "source": [
    "### Step 1: Define the null and alternate hypotheses"
   ]
  },
  {
   "cell_type": "markdown",
   "id": "558a1d80-510f-4ef1-a7f1-3959db1bf507",
   "metadata": {},
   "source": [
    "$H_0:$ Conversion rate and preferred language are independent <br>\n",
    "\n",
    "$H_a:$ Conversion rate and preferred language are dependent or related."
   ]
  },
  {
   "cell_type": "markdown",
   "id": "2784c3b7-4506-46cb-8821-55667a5e360f",
   "metadata": {},
   "source": [
    "### Step 2: Select Appropriate test"
   ]
  },
  {
   "cell_type": "markdown",
   "id": "1b233234-8e57-4690-bd52-d3212743feb6",
   "metadata": {},
   "source": [
    "The formulated hypotheses can be tested using a Chi-square test of independence of attributes, concerning the two categorical variables converted and language"
   ]
  },
  {
   "cell_type": "markdown",
   "id": "67eb1186-7ad3-44c9-846e-617e3e27edea",
   "metadata": {},
   "source": [
    "### Step 3: Decide the significance level"
   ]
  },
  {
   "cell_type": "markdown",
   "id": "5d2a9fb2-2bf3-4f55-b6df-46d3c29c189f",
   "metadata": {},
   "source": [
    "As given in the problem statement, we select $\\alpha = 0.05$."
   ]
  },
  {
   "cell_type": "markdown",
   "id": "978072c3-e9ae-41d2-800b-e65e6ba85e82",
   "metadata": {},
   "source": [
    "### Step 4: Collect and prepare data"
   ]
  },
  {
   "cell_type": "code",
   "execution_count": 104,
   "id": "078b256f-2f83-4ea6-9173-89baef0a2de7",
   "metadata": {},
   "outputs": [
    {
     "data": {
      "text/html": [
       "<div>\n",
       "<style scoped>\n",
       "    .dataframe tbody tr th:only-of-type {\n",
       "        vertical-align: middle;\n",
       "    }\n",
       "\n",
       "    .dataframe tbody tr th {\n",
       "        vertical-align: top;\n",
       "    }\n",
       "\n",
       "    .dataframe thead th {\n",
       "        text-align: right;\n",
       "    }\n",
       "</style>\n",
       "<table border=\"1\" class=\"dataframe\">\n",
       "  <thead>\n",
       "    <tr style=\"text-align: right;\">\n",
       "      <th>language_preferred</th>\n",
       "      <th>English</th>\n",
       "      <th>French</th>\n",
       "      <th>Spanish</th>\n",
       "    </tr>\n",
       "    <tr>\n",
       "      <th>converted</th>\n",
       "      <th></th>\n",
       "      <th></th>\n",
       "      <th></th>\n",
       "    </tr>\n",
       "  </thead>\n",
       "  <tbody>\n",
       "    <tr>\n",
       "      <th>no</th>\n",
       "      <td>11</td>\n",
       "      <td>19</td>\n",
       "      <td>16</td>\n",
       "    </tr>\n",
       "    <tr>\n",
       "      <th>yes</th>\n",
       "      <td>21</td>\n",
       "      <td>15</td>\n",
       "      <td>18</td>\n",
       "    </tr>\n",
       "  </tbody>\n",
       "</table>\n",
       "</div>"
      ],
      "text/plain": [
       "language_preferred  English  French  Spanish\n",
       "converted                                   \n",
       "no                       11      19       16\n",
       "yes                      21      15       18"
      ]
     },
     "execution_count": 104,
     "metadata": {},
     "output_type": "execute_result"
    }
   ],
   "source": [
    "contingency_table = pd.crosstab(data['converted'],data['language_preferred'])\n",
    "contingency_table"
   ]
  },
  {
   "cell_type": "markdown",
   "id": "774bf5af-8591-48b1-8bf5-cbdaec89a622",
   "metadata": {},
   "source": [
    "### Step 5: Calculate the p-value"
   ]
  },
  {
   "cell_type": "code",
   "execution_count": 106,
   "id": "bd7314ca-8917-43f7-adf5-10c3c2dc9768",
   "metadata": {},
   "outputs": [],
   "source": [
    "from scipy.stats import chi2_contingency"
   ]
  },
  {
   "cell_type": "code",
   "execution_count": 107,
   "id": "14d5be50-7e39-4bae-a033-2a98ab36b5b9",
   "metadata": {},
   "outputs": [
    {
     "name": "stdout",
     "output_type": "stream",
     "text": [
      "The p-value is 0.21298887487543447\n"
     ]
    }
   ],
   "source": [
    "# use chi2_contingency() to find the p-value\n",
    "chi2, pval, dof, exp_freq = chi2_contingency(contingency_table)\n",
    "# print the p-value\n",
    "print('The p-value is', pval)"
   ]
  },
  {
   "cell_type": "markdown",
   "id": "113b1d59-1794-4f6a-9284-d1c257048605",
   "metadata": {},
   "source": [
    "### Step 6: Compare the p-value with $\\alpha$"
   ]
  },
  {
   "cell_type": "code",
   "execution_count": 109,
   "id": "5cb4c0a5-8a49-4ba8-9c46-6be71a1467a6",
   "metadata": {},
   "outputs": [
    {
     "name": "stdout",
     "output_type": "stream",
     "text": [
      "As the p-value 0.0001392381225166549 is less than the level of significance, we reject the null hypothesis.\n"
     ]
    }
   ],
   "source": [
    "# print the conclusion based on p-value\n",
    "if p_value < 0.05:\n",
    "    print(f'As the p-value {p_value} is less than the level of significance, we reject the null hypothesis.')\n",
    "else:\n",
    "    print(f'As the p-value {p_value} is greater than the level of significance, we fail to reject the null hypothesis.')"
   ]
  },
  {
   "cell_type": "markdown",
   "id": "cd3c5c33-abe2-4d3f-9f26-34e23865217e",
   "metadata": {},
   "source": [
    "### Step 7:  Draw inference"
   ]
  },
  {
   "cell_type": "markdown",
   "id": "f5f0ee9c-e2be-4fd2-a173-555f225b3bdd",
   "metadata": {},
   "source": [
    "Since the pvalue is < 0.05, we reject the null hypothesis. Hence, we have enough statistical evidence to say that conversion rate is NOT independent of preferred language."
   ]
  },
  {
   "cell_type": "markdown",
   "id": "8d585a90",
   "metadata": {
    "id": "8d585a90"
   },
   "source": [
    "## 4. Is the time spent on the new page same for the different language users?"
   ]
  },
  {
   "cell_type": "markdown",
   "id": "0a0fb1ea-91d5-4136-ac88-1fb72b8c4456",
   "metadata": {
    "id": "b422f395"
   },
   "source": [
    "### Perform Visual Analysis"
   ]
  },
  {
   "cell_type": "code",
   "execution_count": 114,
   "id": "b112b7d9-d350-490f-b364-11823899761c",
   "metadata": {},
   "outputs": [
    {
     "data": {
      "image/png": "[encoded data removed]",
      "text/plain": [
       "<Figure size 640x480 with 1 Axes>"
      ]
     },
     "metadata": {},
     "output_type": "display_data"
    }
   ],
   "source": [
    "new_page_users = data[data['group'] == 'treatment']\n",
    "\n",
    "sns.boxplot(data=new_page_users, x='language_preferred', y='time_spent_on_the_page')\n",
    "plt.show()"
   ]
  },
  {
   "cell_type": "markdown",
   "id": "bfe2c24c-d989-4489-b220-5c967ad4074b",
   "metadata": {},
   "source": [
    "### Step 1: Define the null and alternate hypotheses"
   ]
  },
  {
   "cell_type": "markdown",
   "id": "fdc533cd-8316-48f1-a195-9b57e534ced6",
   "metadata": {},
   "source": [
    "> $H_0:$ The mean time spent on the new landing page is the same for all different language user groups. <br>\n",
    "\n",
    "> $H_a:$ At least one of the mean times spent on the new landing page is different among the different language user groups.\n",
    "\n",
    "Mathematically, the above formulated hypotheses can be written as:\n",
    "\n",
    ">$H_0: \\mu_e = \\mu_s  = \\mu_f $ <br>\n",
    "$H_a:$ At least one group mean is different  <br><br>\n",
    "where <br>\n",
    "$\\mu_e  - \\mu$ English <br>\n",
    "$\\mu_s  - \\mu$ Spanish <br>\n",
    ">$\\mu_f  - \\mu$ Franch"
   ]
  },
  {
   "cell_type": "markdown",
   "id": "dd008bd4-487d-4860-98c4-1b50c08500a8",
   "metadata": {},
   "source": [
    "### Step 2: Select Appropriate test"
   ]
  },
  {
   "cell_type": "markdown",
   "id": "dd252a9f-9c2a-45cb-8317-6d3e46f43c9d",
   "metadata": {},
   "source": [
    "This is a problem, concerning three population means. One-way ANOVA is an appropriate test here provided normality and equality of variance assumptions are verified."
   ]
  },
  {
   "cell_type": "markdown",
   "id": "af27071b-0f08-4c3b-adb5-d7297cb61ace",
   "metadata": {},
   "source": [
    "### Step 3: Decide the significance level"
   ]
  },
  {
   "cell_type": "markdown",
   "id": "3bcf88aa-b5d1-4f81-84af-58ebef96d780",
   "metadata": {},
   "source": [
    "As given in the problem statement, we select $\\alpha = 0.05$."
   ]
  },
  {
   "cell_type": "markdown",
   "id": "59805083-101e-43ed-8d75-431a6e841726",
   "metadata": {},
   "source": [
    "### Step 4: Collect and prepare data"
   ]
  },
  {
   "cell_type": "code",
   "execution_count": 122,
   "id": "18d8694f-719f-4335-9473-859c59406dd5",
   "metadata": {},
   "outputs": [],
   "source": [
    "new_page_users_spanish = new_page_users[new_page_users['language_preferred']=='Spanish']['time_spent_on_the_page']\n",
    "new_page_users_franch = new_page_users[new_page_users['language_preferred']=='French']['time_spent_on_the_page']\n",
    "new_page_users_english = new_page_users[new_page_users['language_preferred']=='English']['time_spent_on_the_page']"
   ]
  },
  {
   "cell_type": "markdown",
   "id": "ba978042-e178-43c7-b190-54b4f243f02f",
   "metadata": {},
   "source": [
    "### Step 5: Calculate the p-value"
   ]
  },
  {
   "cell_type": "code",
   "execution_count": 124,
   "id": "caa6aae7-fb5d-4a3e-8201-7e9d805a2fe3",
   "metadata": {},
   "outputs": [
    {
     "name": "stdout",
     "output_type": "stream",
     "text": [
      "The p-value is  0.43204138694325955\n"
     ]
    }
   ],
   "source": [
    "# import the required function\n",
    "from scipy.stats import f_oneway\n",
    "\n",
    "# find the p-value\n",
    "test_stat, p_value = f_oneway(new_page_users_spanish,new_page_users_franch, new_page_users_english)\n",
    "print('The p-value is ', p_value)"
   ]
  },
  {
   "cell_type": "markdown",
   "id": "5495b3b0-0721-4116-91b4-5b288c8fd1c2",
   "metadata": {},
   "source": [
    "### Step 6: Compare the p-value with $\\alpha$"
   ]
  },
  {
   "cell_type": "code",
   "execution_count": 126,
   "id": "9aaecbf6-9e0d-4b9e-82ca-75c55a62244d",
   "metadata": {},
   "outputs": [
    {
     "name": "stdout",
     "output_type": "stream",
     "text": [
      "As the p-value 0.43204138694325955 is greater than the level of significance, we fail to reject the null hypothesis.\n"
     ]
    }
   ],
   "source": [
    "# print the conclusion based on p-value\n",
    "if p_value < 0.05:\n",
    "    print(f'As the p-value {p_value} is less than the level of significance, we reject the null hypothesis.')\n",
    "else:\n",
    "    print(f'As the p-value {p_value} is greater than the level of significance, we fail to reject the null hypothesis.')"
   ]
  },
  {
   "cell_type": "markdown",
   "id": "4b8658df-aaeb-4cc7-8cfd-828ab5ad828f",
   "metadata": {},
   "source": [
    "### Step 7:  Draw inference"
   ]
  },
  {
   "cell_type": "markdown",
   "id": "559c2ffa-e0c9-4052-82cc-cedf17ec1de8",
   "metadata": {},
   "source": [
    "Since p-value of the test is very large than the 5% significance level, we fail to reject the null hypothesis that the mean time spent on the new landing page is the same for all different language user groups."
   ]
  },
  {
   "cell_type": "markdown",
   "id": "3acbc947",
   "metadata": {
    "id": "3acbc947"
   },
   "source": [
    "## Conclusion and Business Recommendations"
   ]
  },
  {
   "cell_type": "markdown",
   "id": "21fb1063",
   "metadata": {
    "id": "21fb1063"
   },
   "source": [
    "#### 1. User Engagement (Time Spent on Page):\n",
    "There is strong statistical evidence that users spend more time on the new landing page compared to the old one (p < 0.05). <br>\n",
    "**Recommendation**: Adopt the new landing page design to increase user engagement and dwell time, which are key indicators of content interest.\n",
    "\n",
    "#### 2. Conversion Rate Improvement:\n",
    "The conversion rate for the new landing page is significantly higher than that of the old page (p < 0.05). <br>\n",
    "**Recommendation**: Fully roll out the new landing page to maximize subscription rates and marketing ROI.\n",
    "\n",
    "#### 3. Language Preference & Conversion Relationship:\n",
    "Conversion rates are not independent of users' preferred language (p < 0.05), indicating that language influences user decisions. <br>\n",
    "**Recommendation**: Customize or optimize landing page content further based on language segments to improve conversion performance across demographics.\n",
    "\n",
    "#### 4. Time Spent Across Languages:\n",
    "There is no significant difference in time spent on the new page across different language groups (p > 0.05). <br>\n",
    "**Recommendation**: A single layout is effective across languages in terms of engagement time. However, continue monitoring for evolving preferences and consider A/B testing for language-specific content tweaks if needed."
   ]
  },
  {
   "cell_type": "markdown",
   "id": "U0dAd4i0iCHo",
   "metadata": {
    "id": "U0dAd4i0iCHo"
   },
   "source": [
    "___"
   ]
  }
 ],
 "metadata": {
  "colab": {
   "collapsed_sections": [
    "6970dd99",
    "9d75cfa2",
    "68f3b2c9",
    "fad2de2f",
    "27906576",
    "e5fdf0c8",
    "56b3dafd",
    "c7ee4907",
    "3f58c9a7",
    "5fed2eac",
    "f5c5258d",
    "359b12f8",
    "d9affc84",
    "353e9d24",
    "d49bfa2d",
    "8d585a90",
    "3acbc947"
   ],
   "provenance": []
  },
  "kernelspec": {
   "display_name": "Python 3",
   "language": "python",
   "name": "python3"
  },
  "language_info": {
   "codemirror_mode": {
    "name": "ipython",
    "version": 3
   },
   "file_extension": ".py",
   "mimetype": "text/x-python",
   "name": "python",
   "nbconvert_exporter": "python",
   "pygments_lexer": "ipython3",
   "version": "3.12.4"
  }
 },
 "nbformat": 4,
 "nbformat_minor": 5
}
